{
  "nbformat": 4,
  "nbformat_minor": 0,
  "metadata": {
    "colab": {
      "name": "Untitled11.ipynb",
      "version": "0.3.2",
      "provenance": [],
      "collapsed_sections": [],
      "include_colab_link": true
    },
    "kernelspec": {
      "name": "python3",
      "display_name": "Python 3"
    },
    "accelerator": "GPU"
  },
  "cells": [
    {
      "cell_type": "markdown",
      "metadata": {
        "id": "view-in-github",
        "colab_type": "text"
      },
      "source": [
        "[![Open In Colab](https://colab.research.google.com/assets/colab-badge.svg)](https://colab.research.google.com/github/mlrghv/fastai/blob/master/cnn.ipynb)"
      ]
    },
    {
      "metadata": {
        "id": "bVjJvNWu4LhG",
        "colab_type": "code",
        "colab": {}
      },
      "cell_type": "code",
      "source": [
        "??Conv2D"
      ],
      "execution_count": 0,
      "outputs": []
    },
    {
      "metadata": {
        "id": "kANpIFeo6hXe",
        "colab_type": "code",
        "colab": {}
      },
      "cell_type": "code",
      "source": [
        "import keras\n",
        "from keras.models import Model\n",
        "from keras.layers import Input, Dense\n",
        "import matplotlib.pyplot as plt\n",
        "from keras import optimizers\n",
        "from keras import backend as K\n",
        "from keras import regularizers\n",
        "from keras.models import Sequential\n",
        "from keras.layers import Dense, Activation, Dropout, Flatten\n",
        "from keras.layers import Bidirectional, MaxPooling1D, MaxPooling2D, Reshape, Flatten, concatenate, BatchNormalization\n",
        "from keras.layers import Conv2D\n",
        "from keras.utils import plot_model\n",
        "import tensorflow as tf\n",
        "import numpy as np\n",
        "from keras.callbacks import EarlyStopping\n",
        "from keras.datasets import mnist\n",
        "import argparse\n",
        "from keras.models import load_model\n"
      ],
      "execution_count": 0,
      "outputs": []
    },
    {
      "metadata": {
        "id": "1ECtWl-cK6MO",
        "colab_type": "code",
        "colab": {}
      },
      "cell_type": "code",
      "source": [
        "from keras.datasets import mnist\n",
        "def getData(nb_classes=10, img_rows=28, img_cols=28):\n",
        "  (X_train, y_train), (X_test, y_test) = mnist.load_data()\n",
        "\n",
        "  X_train = X_train.astype('float32')\n",
        "  X_test = X_test.astype('float32')\n",
        "  X_train /= 255\n",
        "  X_test /= 255\n",
        "\n",
        "  # one-hot encoding:\n",
        "  Y_train =  keras.utils.to_categorical(y_train, nb_classes)\n",
        "  Y_test =  keras.utils.to_categorical(y_test, nb_classes)\n",
        "\n",
        "  X_train = X_train.reshape(X_train.shape[0], img_rows, img_cols, 1)\n",
        "  X_test = X_test.reshape(X_test.shape[0], img_rows, img_cols, 1)\n",
        "  input_shape = (img_rows, img_cols, 1)\n",
        "  return X_train,Y_train,X_test,Y_test"
      ],
      "execution_count": 0,
      "outputs": []
    },
    {
      "metadata": {
        "id": "qlgttNcvnKra",
        "colab_type": "code",
        "colab": {}
      },
      "cell_type": "code",
      "source": [
        "def cnn_model():\n",
        "  sequence_input = Input(shape=(28,28,1), dtype='float64')\n",
        "  \n",
        "  x1 = Conv2D(32,kernel_size=5, strides=(1,1), padding = 'same' ,activation='relu')(sequence_input)\n",
        "  x1_1 = MaxPooling2D(2)(x1)\n",
        "  \n",
        "  x2_1 = Conv2D(64,kernel_size=3,strides=(1,1),padding='same',activation='relu')(x1_1)\n",
        "  x2_2 = Conv2D(64,kernel_size=3,strides=(1,1),padding='same',activation='relu')(x1_1)\n",
        "  x2_1 = Dropout(0.3)(x2_1)\n",
        "  x2_2 = Dropout(0.3)(x2_2)\n",
        "\n",
        "  x3_1 = Conv2D(256,kernel_size=3,strides=2,padding='same',activation='relu')(x2_1)\n",
        "  x3_2 = Conv2D(256,kernel_size=3,strides=2,padding='same',activation='relu')(x2_2)\n",
        "\n",
        "  x4 = concatenate([x3_1, x3_2])\n",
        "  x4 = Dropout(0.3)(x4)\n",
        "  x4 = MaxPooling2D(2)(x4)\n",
        "  x4 = Flatten()(x4)\n",
        "  \n",
        "  x5 = Dense(1000, activation='relu')(x4)\n",
        "  \n",
        "  x6 = Dense(500, activation='relu')(x5)\n",
        "  \n",
        "  output = Dense(10, activation='softmax')(x6)\n",
        "  model = Model(sequence_input, output)\n",
        "  model.compile(loss=keras.losses.categorical_crossentropy,\n",
        "                optimizer='adam',\n",
        "                metrics=['accuracy'])\n",
        "  return model"
      ],
      "execution_count": 0,
      "outputs": []
    },
    {
      "metadata": {
        "id": "zLkTGCo-6CkU",
        "colab_type": "code",
        "colab": {}
      },
      "cell_type": "code",
      "source": [
        "def cnn_model_test():\n",
        "  sequence_input = Input(shape=(28,28,1), dtype='float64')\n",
        "  \n",
        "  x1 = Conv2D(32,1,activation='relu')(sequence_input)\n",
        "  x1_1 = MaxPooling2D(2)(x1)\n",
        "  \n",
        "  x2_1 = Conv2D(64,1,activation='relu')(x1_1)\n",
        "  x2_2 = Conv2D(64,1,activation='relu')(x1_1)\n",
        "  x2_1 = Dropout(0.3)(x2_1)\n",
        "  x2_2 = Dropout(0.3)(x2_2)\n",
        "\n",
        "  x3_1 = Conv2D(256,2,strides=2,activation='relu')(x2_1)\n",
        "  x3_2 = Conv2D(256,2,strides=2,activation='relu')(x2_2)\n",
        "\n",
        "  x4 = concatenate([x3_1, x3_2])\n",
        "  x4 = Dropout(0.3)(x4)\n",
        "  x4 = MaxPooling2D(2)(x4)\n",
        "  x4 = Flatten()(x4)\n",
        "  \n",
        "  x5 = Dense(1000, activation='relu')(x4)\n",
        "  \n",
        "  x6 = Dense(500, activation='relu')(x5)\n",
        "  \n",
        "  output = Dense(10, activation='softmax')(x6)\n",
        "  model = Model(sequence_input, output)\n",
        "  model.compile(loss=keras.losses.categorical_crossentropy,\n",
        "                optimizer='adam',\n",
        "                metrics=['accuracy'])\n",
        "  return model"
      ],
      "execution_count": 0,
      "outputs": []
    },
    {
      "metadata": {
        "id": "vuK5L7Zeya8S",
        "colab_type": "code",
        "colab": {}
      },
      "cell_type": "code",
      "source": [
        "def accuracy(test_x, test_y, model):\n",
        "  result = model.predict(test_x)\n",
        "  predicted_class = np.argmax(result, axis=1)\n",
        "  true_class = np.argmax(test_y, axis=1)\n",
        "  num_correct = np.sum(predicted_class == true_class) \n",
        "  accuracy = float(num_correct)/result.shape[0]\n",
        "  return (accuracy * 100)"
      ],
      "execution_count": 0,
      "outputs": []
    },
    {
      "metadata": {
        "id": "Hf8-tZeUiix5",
        "colab_type": "code",
        "colab": {}
      },
      "cell_type": "code",
      "source": [
        "def main():\n",
        "    # Training settings\n",
        "    parser = argparse.ArgumentParser(description='MNIST')\n",
        "    parser.add_argument('--batch-size', type=int, default=64, metavar='N',\n",
        "                        help='input batch size for training (default: 64)')\n",
        "    parser.add_argument('--test-batch-size', type=int, default=1000, metavar='N',\n",
        "                        help='input batch size for testing (default: 1000)')\n",
        "    parser.add_argument('--epochs', type=int, default=20, metavar='N',\n",
        "                        help='number of epochs to train (default: 10)')\n",
        "    parser.add_argument('--lr', type=float, default=0.01, metavar='LR',\n",
        "                        help='learning rate (default: 0.01)')\n",
        "    parser.add_argument('--momentum', type=float, default=0.5, metavar='M',\n",
        "                        help='SGD momentum (default: 0.5)')\n",
        "    parser.add_argument('--no-cuda', action='store_true', default=False,\n",
        "                        help='disables CUDA training')\n",
        "    parser.add_argument('--optimizer', type=str, default='adam', metavar='O',\n",
        "                        help='Optimizer (default: adam)')\n",
        "    args = parser.parse_args()\n",
        "    x_train,y_train,x_test,y_test = getData()\n",
        "    x_train,y_train,x_test,y_test = preprocess(x_train,y_train,x_test,y_test)\n",
        "    train(args)"
      ],
      "execution_count": 0,
      "outputs": []
    },
    {
      "metadata": {
        "id": "jEACrCU-oDEU",
        "colab_type": "code",
        "colab": {}
      },
      "cell_type": "code",
      "source": [
        "x_train,y_train,x_test,y_test = getData()\n",
        "#x_train,y_train,x_test,y_test = preprocess(x_train,y_train,x_test,y_test)\n",
        "train(None)\n"
      ],
      "execution_count": 0,
      "outputs": []
    },
    {
      "metadata": {
        "id": "Z5lMMcRy9BOC",
        "colab_type": "code",
        "colab": {}
      },
      "cell_type": "code",
      "source": [
        "def train(args):\n",
        "  model = cnn_model_test()\n",
        "  earlystop = EarlyStopping(monitor='val_acc', min_delta=0.0001, patience=5, \\\n",
        "                          verbose=1, mode='auto')\n",
        "  callbacks_list = [earlystop]\n",
        "  model.fit(x_train,y_train,epochs=10, batch_size=128,verbose=2, validation_split=0.2, callbacks=callbacks_list)\n",
        "  model.save('my_model.h5')\n"
      ],
      "execution_count": 0,
      "outputs": []
    },
    {
      "metadata": {
        "id": "Ad__CTC3K4ok",
        "colab_type": "code",
        "colab": {}
      },
      "cell_type": "code",
      "source": [
        "train(None)\n",
        "accuracy(x_test,y_test,load_model('my_model.h5'))"
      ],
      "execution_count": 0,
      "outputs": []
    },
    {
      "metadata": {
        "id": "feUqHhvz5DyI",
        "colab_type": "code",
        "colab": {}
      },
      "cell_type": "code",
      "source": [
        ""
      ],
      "execution_count": 0,
      "outputs": []
    },
    {
      "metadata": {
        "id": "K0GQSkjn4urI",
        "colab_type": "code",
        "colab": {}
      },
      "cell_type": "code",
      "source": [
        "def predict_image(img):\n",
        "  # Preprocess the image so that it matches the training input\n",
        "  image = Image.open(img)\n",
        "  image = np.asarray(image.resize((28,28)))\n",
        "  image = image.reshape(1,1,28,28)\n",
        "\n",
        "  # Use the loaded model to generate a prediction.\n",
        "  pred = model.predict(image)\n",
        "\n",
        "  # Prepare and send the response.\n",
        "  digit = np.argmax(pred)\n",
        "  prediction = {'digit':int(digit)}\n",
        "  return jsonify(prediction)"
      ],
      "execution_count": 0,
      "outputs": []
    },
    {
      "metadata": {
        "id": "fgSgkbJxK4tP",
        "colab_type": "code",
        "colab": {}
      },
      "cell_type": "code",
      "source": [
        "if __name__ == \"__main__\":\n",
        "  main()"
      ],
      "execution_count": 0,
      "outputs": []
    },
    {
      "metadata": {
        "id": "YoisSLIo6Ci9",
        "colab_type": "code",
        "colab": {}
      },
      "cell_type": "code",
      "source": [
        "sequence_input = Input(shape=(28,28,1), dtype='float64')\n",
        "x1 = Conv2D(32,kernel_size=5, strides=(1,1), padding = 'same' ,activation='relu')(sequence_input)\n",
        "x1_1 = MaxPooling2D(2)(x1)\n",
        "\n",
        "x2_1 = Conv2D(64,kernel_size=3,strides=(1,1),padding='same',activation='relu')(x1_1)\n",
        "x2_2 = Conv2D(64,kernel_size=3,strides=(1,1),padding='same',activation='relu')(x1_1)\n",
        "x2_1 = Dropout(0.3)(x2_1)\n",
        "x2_2 = Dropout(0.3)(x2_2)\n",
        "\n",
        "x3_1 = Conv2D(256,kernel_size=3,strides=2,padding='same',activation='relu')(x2_1)\n",
        "x3_2 = Conv2D(256,kernel_size=3,strides=2,padding='same',activation='relu')(x2_2)\n",
        "\n",
        "x4 = concatenate([x3_1, x3_2])\n",
        "x4 = Dropout(0.3)(x4)\n",
        "x4 = MaxPooling2D(2)(x4)\n",
        "x4 = Flatten()(x4)\n",
        "\n",
        "x5 = Dense(1000, activation='relu')(x4)\n",
        "\n",
        "x6 = Dense(500, activation='relu')(x5)\n",
        "\n",
        "output = Dense(10, activation='softmax')(x6)\n",
        "model = Model(sequence_input, output)\n",
        "model.compile(loss=keras.losses.categorical_crossentropy,\n",
        "              optimizer='adam',\n",
        "              metrics=['accuracy'])\n"
      ],
      "execution_count": 0,
      "outputs": []
    },
    {
      "metadata": {
        "id": "1yWEtiL2txpy",
        "colab_type": "code",
        "colab": {}
      },
      "cell_type": "code",
      "source": [
        "model.summary()"
      ],
      "execution_count": 0,
      "outputs": []
    },
    {
      "metadata": {
        "id": "ulklR5Y_z6rH",
        "colab_type": "code",
        "colab": {}
      },
      "cell_type": "code",
      "source": [
        "model = cnn_model_test()\n",
        "earlystop = EarlyStopping(monitor='val_acc', min_delta=0.0001, patience=5, \\\n",
        "                        verbose=1, mode='auto')\n",
        "callbacks_list = [earlystop]\n",
        "model.fit(x_train,y_train,epochs=10, batch_size=128,verbose=2, validation_split=0.2, callbacks=callbacks_list)\n"
      ],
      "execution_count": 0,
      "outputs": []
    },
    {
      "metadata": {
        "id": "zLIAMpsg0AIR",
        "colab_type": "code",
        "colab": {}
      },
      "cell_type": "code",
      "source": [
        "accuracy(x_test,y_test,model)\n",
        "\n"
      ],
      "execution_count": 0,
      "outputs": []
    }
  ]
}